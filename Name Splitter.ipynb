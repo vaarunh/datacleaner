{
 "cells": [
  {
   "cell_type": "code",
   "execution_count": 24,
   "id": "9be32155",
   "metadata": {},
   "outputs": [
    {
     "name": "stdout",
     "output_type": "stream",
     "text": [
      "^C\n",
      "Note: you may need to restart the kernel to use updated packages.\n"
     ]
    }
   ],
   "source": [
    "pip install textwrap"
   ]
  },
  {
   "cell_type": "code",
   "execution_count": 27,
   "id": "d22898fc",
   "metadata": {},
   "outputs": [
    {
     "name": "stderr",
     "output_type": "stream",
     "text": [
      "C:\\Users\\Varun.Herlekar\\AppData\\Local\\Temp\\ipykernel_19244\\2106220245.py:100: FutureWarning: save is not part of the public API, usage can give unexpected results and will be removed in a future version\n",
      "  excel_writer.save()\n"
     ]
    }
   ],
   "source": [
    "import pandas as pd\n",
    "import textwrap\n",
    "\n",
    "excel_file = 'C:/Z/Book1.csv'\n",
    "df = pd.read_csv(excel_file)\n",
    "\n",
    "def split_text(text, max_length):\n",
    "    if len(text) <= max_length:\n",
    "        return text, \"\"\n",
    "    \n",
    "    split_index = text.rfind(' ', 0, max_length)\n",
    "    if split_index == -1:\n",
    "        split_index = max_length\n",
    "    \n",
    "    return text[:split_index], text[split_index+1:]\n",
    "\n",
    "max_length = 35\n",
    "df['NAME1'], df['NAME2'] = zip(*df['NAME1'].apply(lambda x: split_text(x, max_length)))\n",
    "\n",
    "# Concatenate NAME3, NAME4, and STREET\n",
    "df['CONCATENATED'] = df['NAME3'] + df['NAME4'] + df['STREET']\n",
    "\n",
    "# Handle NaN or non-string values in 'CONCATENATED' gracefully\n",
    "def wrap_text(x):\n",
    "    if isinstance(x, str):\n",
    "        return '\\n'.join(textwrap.wrap(x, width=35, break_long_words=False, replace_whitespace=False))\n",
    "    else:\n",
    "        return \"\"\n",
    "\n",
    "df['CONCATENATED'] = df['CONCATENATED'].apply(wrap_text)\n",
    "wrapped_text = df['CONCATENATED']\n",
    "\n",
    "# Split the concatenated value into three columns of 35 characters each without word breaks\n",
    "df[['NAME3', 'NAME4', 'STREET']] = wrapped_text.str.split('\\n', expand=True, n=2)\n",
    "\n",
    "# Drop the CONCATENATED column if you no longer need it\n",
    "df.drop(columns=['CONCATENATED'], inplace=True)\n",
    "\n",
    "df['BANKN'] = df['BANKN'].apply(lambda x: str(x).replace(\"'\", \"\").strip() if pd.notna(x) else \"123\")\n",
    "df['BANKN'].fillna('123', inplace=True)\n",
    "\n",
    "# Mapping for 'J_1IPANNO' values to 'TITLE_MEDI'\n",
    "title_mapping = {\n",
    "    'C': 'Company',\n",
    "    'P': 'Individual or Proprietor',\n",
    "    'H': 'HUF',\n",
    "    'A': 'Association of Persons',\n",
    "    'B': 'Body of Individuals',\n",
    "    'G': 'Government Agency',\n",
    "    'J': 'Artificial Juridical Person',\n",
    "    'L': 'Local Authority',\n",
    "    'F': 'Firm',\n",
    "    'T': 'Trust'\n",
    "}\n",
    "\n",
    "# Set 'Government' for blank values in 'J_1IPANNO'\n",
    "df['TITLE_MEDI'] = df['J_1IPANNO'].str[3].map(title_mapping)\n",
    "df['TITLE_MEDI'].fillna('Government', inplace=True)\n",
    "\n",
    "# Corrected the condition for 'AKONT' column based on the 'Category' column\n",
    "df['AKONT'] = df.apply(lambda row: 3000000 if row['Category'] == 'Consumables' else 3020000, axis=1)\n",
    "\n",
    "# Handle the 'MSME Uam No' column gracefully with a try-except block\n",
    "def split_msme_uam(msme_uam):\n",
    "    try:\n",
    "        msme_uam = str(msme_uam).strip()  # Convert to string and strip whitespace\n",
    "        if len(msme_uam) >= 15:\n",
    "            return f\"{msme_uam[:5]}-{msme_uam[5:7]}-{msme_uam[7:9]}-{msme_uam[9:]}\"\n",
    "        else:\n",
    "            return \"\"  # Return an empty string for values with insufficient length\n",
    "    except Exception as e:\n",
    "        return \"\"  # Return an empty string for non-string values\n",
    "\n",
    "df['MSME Uam No'] = df['MSME Uam No'].apply(split_msme_uam)\n",
    "\n",
    "# Specify the ExcelWriter with the openpyxl engine\n",
    "excel_writer = pd.ExcelWriter('C:/Z/output_excel_file.xlsx', engine='openpyxl')\n",
    "\n",
    "# Convert the DataFrame to Excel with adjusted column width\n",
    "df.to_excel(excel_writer, index=False)\n",
    "\n",
    "# Get the xlsxwriter workbook and worksheet objects\n",
    "workbook = excel_writer.book\n",
    "worksheet = excel_writer.sheets['Sheet1']\n",
    "\n",
    "# Iterate through all columns and set the width to fit the contents\n",
    "for column in worksheet.columns:\n",
    "    max_length = 0\n",
    "    column_name = column[0].column_letter\n",
    "    for cell in column:\n",
    "        try:  # Necessary to avoid error on empty cells\n",
    "            if len(str(cell.value)) > max_length:\n",
    "                max_length = len(str(cell.value))\n",
    "        except:\n",
    "            pass\n",
    "    adjusted_width = (max_length + 2)\n",
    "    worksheet.column_dimensions[column_name].width = adjusted_width\n",
    "\n",
    "# Save the Excel file\n",
    "excel_writer.save()\n"
   ]
  },
  {
   "cell_type": "code",
   "execution_count": null,
   "id": "57b70518",
   "metadata": {},
   "outputs": [],
   "source": [
    "\n"
   ]
  }
 ],
 "metadata": {
  "kernelspec": {
   "display_name": "Python 3 (ipykernel)",
   "language": "python",
   "name": "python3"
  },
  "language_info": {
   "codemirror_mode": {
    "name": "ipython",
    "version": 3
   },
   "file_extension": ".py",
   "mimetype": "text/x-python",
   "name": "python",
   "nbconvert_exporter": "python",
   "pygments_lexer": "ipython3",
   "version": "3.11.4"
  }
 },
 "nbformat": 4,
 "nbformat_minor": 5
}
